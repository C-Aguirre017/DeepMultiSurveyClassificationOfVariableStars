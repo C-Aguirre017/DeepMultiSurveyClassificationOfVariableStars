{
 "cells": [
  {
   "cell_type": "markdown",
   "metadata": {
    "deletable": true,
    "editable": true
   },
   "source": [
    "# Extract FATS for VVVDR4"
   ]
  },
  {
   "cell_type": "code",
   "execution_count": 42,
   "metadata": {
    "collapsed": false,
    "deletable": true,
    "editable": true
   },
   "outputs": [
    {
     "data": {
      "text/plain": [
       "{'divide': 'ignore', 'invalid': 'ignore', 'over': 'warn', 'under': 'ignore'}"
      ]
     },
     "execution_count": 42,
     "metadata": {},
     "output_type": "execute_result"
    }
   ],
   "source": [
    "import os, glob, warnings, FATS, fnmatch\n",
    "import numpy as np\n",
    "import pandas as pd\n",
    "import multiprocessing\n",
    "from joblib import Parallel, delayed\n",
    "import signal\n",
    "import time\n",
    "warnings.filterwarnings(\"ignore\", category=DeprecationWarning) \n",
    "np.seterr(divide='ignore', invalid='ignore')"
   ]
  },
  {
   "cell_type": "markdown",
   "metadata": {
    "deletable": true,
    "editable": true
   },
   "source": [
    "## Settings"
   ]
  },
  {
   "cell_type": "code",
   "execution_count": 43,
   "metadata": {
    "collapsed": false,
    "deletable": true,
    "editable": true
   },
   "outputs": [
    {
     "name": "stdout",
     "output_type": "stream",
     "text": [
      "Warning: the feature Color could not be calculated because ['magnitude', 'time', 'magnitude2'] are needed.\n",
      "Warning: the feature Eta_color could not be calculated because ['magnitude', 'time', 'magnitude2'] are needed.\n",
      "Warning: the feature Q31_color could not be calculated because ['magnitude', 'time', 'magnitude2'] are needed.\n",
      "Warning: the feature StetsonJ could not be calculated because ['magnitude', 'time', 'error', 'magnitude2', 'error2'] are needed.\n",
      "Warning: the feature StetsonL could not be calculated because ['magnitude', 'time', 'error', 'magnitude2', 'error2'] are needed.\n"
     ]
    }
   ],
   "source": [
    "n_cores = multiprocessing.cpu_count() - 2\n",
    "folder_path = './Fats/'\n",
    "feature_space = FATS.FeatureSpace(Data= ['magnitude','time','error'], featureList=None)\n",
    "\n",
    "base_path = '/Users/Carlos/Desktop/Redes/Data/'\n",
    "exp_corot = base_path + 'Corot'     #'*.csv'\n",
    "exp_ogle = base_path + 'OGLE-III' #'OGLE-*.dat'\n",
    "exp_vvv = base_path + 'VVV'      #'*.csv'\n",
    "TIMEOUT = 100 # segundos"
   ]
  },
  {
   "cell_type": "markdown",
   "metadata": {
    "deletable": true,
    "editable": true
   },
   "source": [
    "### Methods"
   ]
  },
  {
   "cell_type": "code",
   "execution_count": 45,
   "metadata": {
    "collapsed": true
   },
   "outputs": [],
   "source": [
    "class Timeout():\n",
    "    \"\"\"Timeout class using ALARM signal.\"\"\"\n",
    "    class Timeout(Exception):\n",
    "        pass\n",
    " \n",
    "    def __init__(self, sec):\n",
    "        self.sec = sec\n",
    " \n",
    "    def __enter__(self):\n",
    "        signal.signal(signal.SIGALRM, self.raise_timeout)\n",
    "        signal.alarm(self.sec)\n",
    " \n",
    "    def __exit__(self, *args):\n",
    "        signal.alarm(0)    # disable alarm\n",
    " \n",
    "    def raise_timeout(self, *args):\n",
    "        raise Timeout.Timeout()"
   ]
  },
  {
   "cell_type": "code",
   "execution_count": 46,
   "metadata": {
    "collapsed": false,
    "deletable": true,
    "editable": true
   },
   "outputs": [],
   "source": [
    "def chunks(l, n):\n",
    "    for i in range(0, len(l), n):\n",
    "        yield l[i:i + n]\n",
    "\n",
    "def get_files(directory, pattern = \"*.csv\"):\n",
    "    matches = []\n",
    "    for root, dirs, files in os.walk(directory):\n",
    "        for basename in files:\n",
    "            if fnmatch.fnmatch(basename, pattern):\n",
    "                filename = os.path.join(root, basename)\n",
    "                matches.append(filename)\n",
    "    return matches\n",
    "                \n",
    "def open_vista(path):\n",
    "    df = pd.read_csv(path, comment='#', sep=',')\n",
    "    df = df[df.mjd > 0]\n",
    "    df = df.sort_values(by=[df.columns[1]])\n",
    " \n",
    "    time = np.array(df[df.columns[1]].values, dtype=float)\n",
    "    magnitude = np.array(df[df.columns[2]].values, dtype=float)\n",
    "    error = np.array(df[df.columns[3]].values, dtype=float)\n",
    "    \n",
    "    # Not Nan\n",
    "    not_nan = np.where(~np.logical_or(np.isnan(time), np.isnan(magnitude)))[0]\n",
    "    time = time[not_nan]\n",
    "    magnitude = magnitude[not_nan]\n",
    "    error = error[not_nan]\n",
    "    \n",
    "    return time, magnitude, error\n",
    "\n",
    "\n",
    "def first_fats(path):\n",
    "    lc = FATS.ReadLC_MACHO(path)\n",
    "    [mag, time, error] = lc.ReadLC()\n",
    "    preproccesed_data = FATS.Preprocess_LC(mag, time, error)\n",
    "    lc = np.array(preproccesed_data.Preprocess())\n",
    "    b = feature_space.calculateFeature(lc)\n",
    "\n",
    "def calculate_one_band_features(path):\n",
    "    time, mag, error = open_vista(path)\n",
    "    preproccesed_data = FATS.Preprocess_LC(mag, time, error)\n",
    "    lc = np.array(preproccesed_data.Preprocess())\n",
    "    # feature_space = FATS.FeatureSpace(Data= ['magnitude','time','error'], featureList=None)\n",
    "    feature_space.calculateFeature(lc)\n",
    "    return  feature_space.result(method='dict')\n",
    "    \n",
    "def run_FATS(path):\n",
    "    print '\\t ', path\n",
    "    fats = [-1]*59\n",
    "    try:\n",
    "        with Timeout(TIMEOUT):\n",
    "            # Save Fats into folder\n",
    "            directory = os.path.dirname(path) + '/Fats'\n",
    "            name = os.path.basename(path)[:-4] + '.npy'\n",
    "            if not os.path.exists(directory):\n",
    "                print '[+] Creando Directorio \\n\\t ->', directory\n",
    "                os.mkdir(directory)    \n",
    "            new_path = directory + '/' + name\n",
    "\n",
    "            # Calculate Fats\n",
    "            if not os.path.exists(new_path):\n",
    "                fats = calculate_one_band_features(path)\n",
    "                np.save(new_path, fats)\n",
    "    except: \n",
    "        print '\\t\\t\\t Fatal Error'\n",
    "    return fats"
   ]
  },
  {
   "cell_type": "markdown",
   "metadata": {
    "deletable": true,
    "editable": true
   },
   "source": [
    "## VVV Fats"
   ]
  },
  {
   "cell_type": "code",
   "execution_count": 9,
   "metadata": {
    "collapsed": false,
    "deletable": true,
    "editable": true,
    "scrolled": false
   },
   "outputs": [
    {
     "name": "stdout",
     "output_type": "stream",
     "text": [
      "\t\t [+] Total: 246789\n",
      "\t  /Users/Carlos/Desktop/Redes/Data/VVV/blg/cep/data/cep102030/515482937214.csv\n",
      "\t  /Users/Carlos/Desktop/Redes/Data/VVV/blg/cep/data/cep102030/515570141149.csv\n",
      "\t  /Users/Carlos/Desktop/Redes/Data/VVV/blg/cep/data/cep10Veinte/515539224464.csv\n",
      "\t  /Users/Carlos/Desktop/Redes/Data/VVV/blg/cep/data/cep10Veinte/515602796272.csv\n",
      "\t  /Users/Carlos/Desktop/Redes/Data/VVV/blg/cep/data/cep10Veinte/515611394309.csv\n",
      "\t  /Users/Carlos/Desktop/Redes/Data/VVV/blg/cep/data/cepDiez/515539246437.csv\n",
      "\t  /Users/Carlos/Desktop/Redes/Data/VVV/blg/cep/data/cepDiez/515548598591.csv\n",
      "\t  /Users/Carlos/Desktop/Redes/Data/VVV/blg/cep/data/cepDiez/515558477674.csv\n",
      "\t  /Users/Carlos/Desktop/Redes/Data/VVV/blg/cep/data/cepDiez/515569928392.csv\n",
      "\t  /Users/Carlos/Desktop/Redes/Data/VVV/blg/cep/data/cepEfe/515436726339.csv\n",
      "\t  /Users/Carlos/Desktop/Redes/Data/VVV/blg/cep/data/cepEfe/515436925483.csv\n",
      "\t  /Users/Carlos/Desktop/Redes/Data/VVV/blg/cep/data/cepEfe/515438887758.csv\n",
      "\t  /Users/Carlos/Desktop/Redes/Data/VVV/blg/cep/data/cepEfe/515469392589.csv\n",
      "\t  /Users/Carlos/Desktop/Redes/Data/VVV/blg/cep/data/cepEfe/515492055737.csv\n",
      "\t  /Users/Carlos/Desktop/Redes/Data/VVV/blg/cep/data/cepEfe/515504897617.csv\n",
      "\t  /Users/Carlos/Desktop/Redes/Data/VVV/blg/cep/data/cepEfe/515513217727.csv\n",
      "\t\t\t Fatal Error\n",
      "\t  /Users/Carlos/Desktop/Redes/Data/VVV/blg/cep/data/cepEfe/515535944561.csv\n",
      "\t  /Users/Carlos/Desktop/Redes/Data/VVV/blg/cep/data/cepEfe/515539760867.csv\n",
      "\t  /Users/Carlos/Desktop/Redes/Data/VVV/blg/cep/data/cepEfe/515548998195.csv\n",
      "\t  /Users/Carlos/Desktop/Redes/Data/VVV/blg/cep/data/cepEfe/515558492976.csv\n",
      "\t  /Users/Carlos/Desktop/Redes/Data/VVV/blg/cep/data/cepEfe/515559720724.csv\n",
      "\t  /Users/Carlos/Desktop/Redes/Data/VVV/blg/cep/data/cepEfe/515570377459.csv\n",
      "\t  /Users/Carlos/Desktop/Redes/Data/VVV/blg/cep/data/cepEfe/515570937333.csv\n",
      "\t  /Users/Carlos/Desktop/Redes/Data/VVV/blg/cep/data/cepEfe/515579129871.csv\n",
      "\t  /Users/Carlos/Desktop/Redes/Data/VVV/blg/cep/data/cepEfe/515591445367.csv\n",
      "\t  /Users/Carlos/Desktop/Redes/Data/VVV/blg/cep/data/cepEfe/515591626638.csv\n",
      "\t  /Users/Carlos/Desktop/Redes/Data/VVV/blg/cep/data/cepEfe/515611380603.csv\n",
      "\t  /Users/Carlos/Desktop/Redes/Data/VVV/blg/cep/data/cepEfe/515621305244.csv\n",
      "\t  /Users/Carlos/Desktop/Redes/Data/VVV/blg/cep/data/cepEfe/515642430517.csv\n",
      "\t  /Users/Carlos/Desktop/Redes/Data/VVV/blg/cep/data/cepF10/515448241111.csv\n",
      "\t\t\t Fatal Error\n",
      "\t  /Users/Carlos/Desktop/Redes/Data/VVV/blg/cep/data/cepF10/515516880567.csv\n",
      "\t  /Users/Carlos/Desktop/Redes/Data/VVV/blg/lpv/data/Mira/515396745276.csv\n",
      "\t  /Users/Carlos/Desktop/Redes/Data/VVV/blg/lpv/data/Mira/515397152856.csv\n",
      "\t  /Users/Carlos/Desktop/Redes/Data/VVV/blg/lpv/data/Mira/515397650059.csv\n",
      "\t  /Users/Carlos/Desktop/Redes/Data/VVV/blg/lpv/data/Mira/515401183222.csv\n",
      "\t  /Users/Carlos/Desktop/Redes/Data/VVV/blg/lpv/data/Mira/515401192020.csv\n",
      "\t\t\t Fatal Error\n"
     ]
    },
    {
     "ename": "TimeoutError",
     "evalue": "",
     "output_type": "error",
     "traceback": [
      "\u001b[0;31m---------------------------------------------------------------------------\u001b[0m",
      "\u001b[0;31mTimeoutError\u001b[0m                              Traceback (most recent call last)",
      "\u001b[0;32m<ipython-input-9-9006c62fe267>\u001b[0m in \u001b[0;36m<module>\u001b[0;34m()\u001b[0m\n\u001b[1;32m      3\u001b[0m \u001b[0mbatchs\u001b[0m \u001b[0;34m=\u001b[0m \u001b[0mlist\u001b[0m\u001b[0;34m(\u001b[0m\u001b[0mchunks\u001b[0m\u001b[0;34m(\u001b[0m\u001b[0mfiles\u001b[0m\u001b[0;34m,\u001b[0m \u001b[0;36m10\u001b[0m\u001b[0;34m)\u001b[0m\u001b[0;34m)\u001b[0m\u001b[0;34m\u001b[0m\u001b[0m\n\u001b[1;32m      4\u001b[0m \u001b[0;32mfor\u001b[0m \u001b[0mbatch\u001b[0m \u001b[0;32min\u001b[0m \u001b[0mbatchs\u001b[0m\u001b[0;34m:\u001b[0m\u001b[0;34m\u001b[0m\u001b[0m\n\u001b[0;32m----> 5\u001b[0;31m     \u001b[0mresult\u001b[0m \u001b[0;34m=\u001b[0m \u001b[0mParallel\u001b[0m\u001b[0;34m(\u001b[0m\u001b[0mn_jobs\u001b[0m\u001b[0;34m=\u001b[0m\u001b[0mn_cores\u001b[0m\u001b[0;34m,\u001b[0m \u001b[0mtimeout\u001b[0m\u001b[0;34m=\u001b[0m\u001b[0;36m30\u001b[0m\u001b[0;34m)\u001b[0m\u001b[0;34m(\u001b[0m\u001b[0mdelayed\u001b[0m\u001b[0;34m(\u001b[0m\u001b[0mrun_FATS\u001b[0m\u001b[0;34m)\u001b[0m\u001b[0;34m(\u001b[0m\u001b[0mi\u001b[0m\u001b[0;34m)\u001b[0m \u001b[0;32mfor\u001b[0m \u001b[0mi\u001b[0m \u001b[0;32min\u001b[0m \u001b[0mbatch\u001b[0m\u001b[0;34m)\u001b[0m\u001b[0;34m\u001b[0m\u001b[0m\n\u001b[0m",
      "\u001b[0;32m/Users/Carlos/Desktop/ExpI/env/lib/python2.7/site-packages/joblib/parallel.pyc\u001b[0m in \u001b[0;36m__call__\u001b[0;34m(self, iterable)\u001b[0m\n\u001b[1;32m    787\u001b[0m                 \u001b[0;31m# consumption.\u001b[0m\u001b[0;34m\u001b[0m\u001b[0;34m\u001b[0m\u001b[0m\n\u001b[1;32m    788\u001b[0m                 \u001b[0mself\u001b[0m\u001b[0;34m.\u001b[0m\u001b[0m_iterating\u001b[0m \u001b[0;34m=\u001b[0m \u001b[0mFalse\u001b[0m\u001b[0;34m\u001b[0m\u001b[0m\n\u001b[0;32m--> 789\u001b[0;31m             \u001b[0mself\u001b[0m\u001b[0;34m.\u001b[0m\u001b[0mretrieve\u001b[0m\u001b[0;34m(\u001b[0m\u001b[0;34m)\u001b[0m\u001b[0;34m\u001b[0m\u001b[0m\n\u001b[0m\u001b[1;32m    790\u001b[0m             \u001b[0;31m# Make sure that we get a last message telling us we are done\u001b[0m\u001b[0;34m\u001b[0m\u001b[0;34m\u001b[0m\u001b[0m\n\u001b[1;32m    791\u001b[0m             \u001b[0melapsed_time\u001b[0m \u001b[0;34m=\u001b[0m \u001b[0mtime\u001b[0m\u001b[0;34m.\u001b[0m\u001b[0mtime\u001b[0m\u001b[0;34m(\u001b[0m\u001b[0;34m)\u001b[0m \u001b[0;34m-\u001b[0m \u001b[0mself\u001b[0m\u001b[0;34m.\u001b[0m\u001b[0m_start_time\u001b[0m\u001b[0;34m\u001b[0m\u001b[0m\n",
      "\u001b[0;32m/Users/Carlos/Desktop/ExpI/env/lib/python2.7/site-packages/joblib/parallel.pyc\u001b[0m in \u001b[0;36mretrieve\u001b[0;34m(self)\u001b[0m\n\u001b[1;32m    697\u001b[0m             \u001b[0;32mtry\u001b[0m\u001b[0;34m:\u001b[0m\u001b[0;34m\u001b[0m\u001b[0m\n\u001b[1;32m    698\u001b[0m                 \u001b[0;32mif\u001b[0m \u001b[0mgetattr\u001b[0m\u001b[0;34m(\u001b[0m\u001b[0mself\u001b[0m\u001b[0;34m.\u001b[0m\u001b[0m_backend\u001b[0m\u001b[0;34m,\u001b[0m \u001b[0;34m'supports_timeout'\u001b[0m\u001b[0;34m,\u001b[0m \u001b[0mFalse\u001b[0m\u001b[0;34m)\u001b[0m\u001b[0;34m:\u001b[0m\u001b[0;34m\u001b[0m\u001b[0m\n\u001b[0;32m--> 699\u001b[0;31m                     \u001b[0mself\u001b[0m\u001b[0;34m.\u001b[0m\u001b[0m_output\u001b[0m\u001b[0;34m.\u001b[0m\u001b[0mextend\u001b[0m\u001b[0;34m(\u001b[0m\u001b[0mjob\u001b[0m\u001b[0;34m.\u001b[0m\u001b[0mget\u001b[0m\u001b[0;34m(\u001b[0m\u001b[0mtimeout\u001b[0m\u001b[0;34m=\u001b[0m\u001b[0mself\u001b[0m\u001b[0;34m.\u001b[0m\u001b[0mtimeout\u001b[0m\u001b[0;34m)\u001b[0m\u001b[0;34m)\u001b[0m\u001b[0;34m\u001b[0m\u001b[0m\n\u001b[0m\u001b[1;32m    700\u001b[0m                 \u001b[0;32melse\u001b[0m\u001b[0;34m:\u001b[0m\u001b[0;34m\u001b[0m\u001b[0m\n\u001b[1;32m    701\u001b[0m                     \u001b[0mself\u001b[0m\u001b[0;34m.\u001b[0m\u001b[0m_output\u001b[0m\u001b[0;34m.\u001b[0m\u001b[0mextend\u001b[0m\u001b[0;34m(\u001b[0m\u001b[0mjob\u001b[0m\u001b[0;34m.\u001b[0m\u001b[0mget\u001b[0m\u001b[0;34m(\u001b[0m\u001b[0;34m)\u001b[0m\u001b[0;34m)\u001b[0m\u001b[0;34m\u001b[0m\u001b[0m\n",
      "\u001b[0;32m/usr/local/Cellar/python/2.7.13/Frameworks/Python.framework/Versions/2.7/lib/python2.7/multiprocessing/pool.pyc\u001b[0m in \u001b[0;36mget\u001b[0;34m(self, timeout)\u001b[0m\n\u001b[1;32m    561\u001b[0m         \u001b[0mself\u001b[0m\u001b[0;34m.\u001b[0m\u001b[0mwait\u001b[0m\u001b[0;34m(\u001b[0m\u001b[0mtimeout\u001b[0m\u001b[0;34m)\u001b[0m\u001b[0;34m\u001b[0m\u001b[0m\n\u001b[1;32m    562\u001b[0m         \u001b[0;32mif\u001b[0m \u001b[0;32mnot\u001b[0m \u001b[0mself\u001b[0m\u001b[0;34m.\u001b[0m\u001b[0m_ready\u001b[0m\u001b[0;34m:\u001b[0m\u001b[0;34m\u001b[0m\u001b[0m\n\u001b[0;32m--> 563\u001b[0;31m             \u001b[0;32mraise\u001b[0m \u001b[0mTimeoutError\u001b[0m\u001b[0;34m\u001b[0m\u001b[0m\n\u001b[0m\u001b[1;32m    564\u001b[0m         \u001b[0;32mif\u001b[0m \u001b[0mself\u001b[0m\u001b[0;34m.\u001b[0m\u001b[0m_success\u001b[0m\u001b[0;34m:\u001b[0m\u001b[0;34m\u001b[0m\u001b[0m\n\u001b[1;32m    565\u001b[0m             \u001b[0;32mreturn\u001b[0m \u001b[0mself\u001b[0m\u001b[0;34m.\u001b[0m\u001b[0m_value\u001b[0m\u001b[0;34m\u001b[0m\u001b[0m\n",
      "\u001b[0;31mTimeoutError\u001b[0m: "
     ]
    }
   ],
   "source": [
    "files = get_files(exp_vvv)\n",
    "print '\\t\\t [+] Total:', len(files)\n",
    "batchs = list(chunks(files, 10)) \n",
    "for batch in batchs:\n",
    "    result = Parallel(n_jobs=n_cores)(delayed(run_FATS)(i) for i in batch)"
   ]
  },
  {
   "cell_type": "markdown",
   "metadata": {
    "deletable": true,
    "editable": true
   },
   "source": [
    "## Recover Files"
   ]
  },
  {
   "cell_type": "code",
   "execution_count": null,
   "metadata": {
    "collapsed": false,
    "deletable": true,
    "editable": true
   },
   "outputs": [],
   "source": [
    "dictionary = np.load('./blg/rrlyr/RRd/515548855191.npy').item()"
   ]
  },
  {
   "cell_type": "markdown",
   "metadata": {
    "deletable": true,
    "editable": true,
    "slideshow": {
     "slide_type": "-"
    }
   },
   "source": [
    "# Example"
   ]
  },
  {
   "cell_type": "code",
   "execution_count": 12,
   "metadata": {
    "collapsed": false,
    "deletable": true,
    "editable": true,
    "scrolled": true
   },
   "outputs": [
    {
     "ename": "KeyboardInterrupt",
     "evalue": "",
     "output_type": "error",
     "traceback": [
      "\u001b[0;31m---------------------------------------------------------------------------\u001b[0m",
      "\u001b[0;31mKeyboardInterrupt\u001b[0m                         Traceback (most recent call last)",
      "\u001b[0;32m<ipython-input-12-201891e3294f>\u001b[0m in \u001b[0;36m<module>\u001b[0;34m()\u001b[0m\n\u001b[1;32m      1\u001b[0m \u001b[0mf\u001b[0m \u001b[0;34m=\u001b[0m \u001b[0;34m'/Users/Carlos/Desktop/Redes/Data/VVV/blg/lpv/data/Mira/515401192020.csv'\u001b[0m\u001b[0;34m\u001b[0m\u001b[0m\n\u001b[0;32m----> 2\u001b[0;31m \u001b[0mcalculate_one_band_features\u001b[0m\u001b[0;34m(\u001b[0m\u001b[0mf\u001b[0m\u001b[0;34m)\u001b[0m\u001b[0;34m\u001b[0m\u001b[0m\n\u001b[0m",
      "\u001b[0;32m<ipython-input-8-a9c7c710fc10>\u001b[0m in \u001b[0;36mcalculate_one_band_features\u001b[0;34m(path)\u001b[0m\n\u001b[1;32m     42\u001b[0m     \u001b[0mlc\u001b[0m \u001b[0;34m=\u001b[0m \u001b[0mnp\u001b[0m\u001b[0;34m.\u001b[0m\u001b[0marray\u001b[0m\u001b[0;34m(\u001b[0m\u001b[0mpreproccesed_data\u001b[0m\u001b[0;34m.\u001b[0m\u001b[0mPreprocess\u001b[0m\u001b[0;34m(\u001b[0m\u001b[0;34m)\u001b[0m\u001b[0;34m)\u001b[0m\u001b[0;34m\u001b[0m\u001b[0m\n\u001b[1;32m     43\u001b[0m     \u001b[0;31m# feature_space = FATS.FeatureSpace(Data= ['magnitude','time','error'], featureList=None)\u001b[0m\u001b[0;34m\u001b[0m\u001b[0;34m\u001b[0m\u001b[0m\n\u001b[0;32m---> 44\u001b[0;31m     \u001b[0mfeature_space\u001b[0m\u001b[0;34m.\u001b[0m\u001b[0mcalculateFeature\u001b[0m\u001b[0;34m(\u001b[0m\u001b[0mlc\u001b[0m\u001b[0;34m)\u001b[0m\u001b[0;34m\u001b[0m\u001b[0m\n\u001b[0m\u001b[1;32m     45\u001b[0m     \u001b[0;32mreturn\u001b[0m  \u001b[0mfeature_space\u001b[0m\u001b[0;34m.\u001b[0m\u001b[0mresult\u001b[0m\u001b[0;34m(\u001b[0m\u001b[0mmethod\u001b[0m\u001b[0;34m=\u001b[0m\u001b[0;34m'dict'\u001b[0m\u001b[0;34m)\u001b[0m\u001b[0;34m\u001b[0m\u001b[0m\n\u001b[1;32m     46\u001b[0m \u001b[0;34m\u001b[0m\u001b[0m\n",
      "\u001b[0;32m/Users/Carlos/Desktop/ExpI/env/lib/python2.7/site-packages/FATS/Feature.pyc\u001b[0m in \u001b[0;36mcalculateFeature\u001b[0;34m(self, data)\u001b[0m\n\u001b[1;32m    137\u001b[0m         \u001b[0mself\u001b[0m\u001b[0;34m.\u001b[0m\u001b[0m__result\u001b[0m \u001b[0;34m=\u001b[0m \u001b[0;34m[\u001b[0m\u001b[0;34m]\u001b[0m\u001b[0;34m\u001b[0m\u001b[0m\n\u001b[1;32m    138\u001b[0m         \u001b[0;32mfor\u001b[0m \u001b[0mf\u001b[0m \u001b[0;32min\u001b[0m \u001b[0mself\u001b[0m\u001b[0;34m.\u001b[0m\u001b[0mfeatureFunc\u001b[0m\u001b[0;34m:\u001b[0m\u001b[0;34m\u001b[0m\u001b[0m\n\u001b[0;32m--> 139\u001b[0;31m             \u001b[0mself\u001b[0m\u001b[0;34m.\u001b[0m\u001b[0m__result\u001b[0m\u001b[0;34m.\u001b[0m\u001b[0mappend\u001b[0m\u001b[0;34m(\u001b[0m\u001b[0mf\u001b[0m\u001b[0;34m(\u001b[0m\u001b[0mself\u001b[0m\u001b[0;34m.\u001b[0m\u001b[0m_X\u001b[0m\u001b[0;34m)\u001b[0m\u001b[0;34m)\u001b[0m\u001b[0;34m\u001b[0m\u001b[0m\n\u001b[0m\u001b[1;32m    140\u001b[0m         \u001b[0;32mreturn\u001b[0m \u001b[0mself\u001b[0m\u001b[0;34m\u001b[0m\u001b[0m\n\u001b[1;32m    141\u001b[0m \u001b[0;34m\u001b[0m\u001b[0m\n",
      "\u001b[0;32m/Users/Carlos/Desktop/ExpI/env/lib/python2.7/site-packages/FATS/FeatureFunctionLib.pyc\u001b[0m in \u001b[0;36mfit\u001b[0;34m(self, data)\u001b[0m\n\u001b[1;32m     94\u001b[0m         \u001b[0;32mwhile\u001b[0m \u001b[0mk\u001b[0m \u001b[0;32mis\u001b[0m \u001b[0mNone\u001b[0m\u001b[0;34m:\u001b[0m\u001b[0;34m\u001b[0m\u001b[0m\n\u001b[1;32m     95\u001b[0m             \u001b[0mself\u001b[0m\u001b[0;34m.\u001b[0m\u001b[0mnlags\u001b[0m \u001b[0;34m=\u001b[0m \u001b[0mself\u001b[0m\u001b[0;34m.\u001b[0m\u001b[0mnlags\u001b[0m \u001b[0;34m+\u001b[0m \u001b[0;36m100\u001b[0m\u001b[0;34m\u001b[0m\u001b[0m\n\u001b[0;32m---> 96\u001b[0;31m             \u001b[0mAC\u001b[0m \u001b[0;34m=\u001b[0m \u001b[0mstattools\u001b[0m\u001b[0;34m.\u001b[0m\u001b[0macf\u001b[0m\u001b[0;34m(\u001b[0m\u001b[0mmagnitude\u001b[0m\u001b[0;34m,\u001b[0m \u001b[0mnlags\u001b[0m\u001b[0;34m=\u001b[0m\u001b[0mself\u001b[0m\u001b[0;34m.\u001b[0m\u001b[0mnlags\u001b[0m\u001b[0;34m)\u001b[0m\u001b[0;34m\u001b[0m\u001b[0m\n\u001b[0m\u001b[1;32m     97\u001b[0m             k = next((index for index, value in\n\u001b[1;32m     98\u001b[0m                       enumerate(AC) if value < np.exp(-1)), None)\n",
      "\u001b[0;32m/Users/Carlos/Desktop/ExpI/env/lib/python2.7/site-packages/statsmodels/tsa/stattools.pyc\u001b[0m in \u001b[0;36macf\u001b[0;34m(x, unbiased, nlags, qstat, fft, alpha, missing)\u001b[0m\n\u001b[1;32m    472\u001b[0m     \"\"\"\n\u001b[1;32m    473\u001b[0m     \u001b[0mnobs\u001b[0m \u001b[0;34m=\u001b[0m \u001b[0mlen\u001b[0m\u001b[0;34m(\u001b[0m\u001b[0mx\u001b[0m\u001b[0;34m)\u001b[0m  \u001b[0;31m# should this shrink for missing='drop' and NaNs in x?\u001b[0m\u001b[0;34m\u001b[0m\u001b[0m\n\u001b[0;32m--> 474\u001b[0;31m     \u001b[0mavf\u001b[0m \u001b[0;34m=\u001b[0m \u001b[0macovf\u001b[0m\u001b[0;34m(\u001b[0m\u001b[0mx\u001b[0m\u001b[0;34m,\u001b[0m \u001b[0munbiased\u001b[0m\u001b[0;34m=\u001b[0m\u001b[0munbiased\u001b[0m\u001b[0;34m,\u001b[0m \u001b[0mdemean\u001b[0m\u001b[0;34m=\u001b[0m\u001b[0mTrue\u001b[0m\u001b[0;34m,\u001b[0m \u001b[0mfft\u001b[0m\u001b[0;34m=\u001b[0m\u001b[0mfft\u001b[0m\u001b[0;34m,\u001b[0m \u001b[0mmissing\u001b[0m\u001b[0;34m=\u001b[0m\u001b[0mmissing\u001b[0m\u001b[0;34m)\u001b[0m\u001b[0;34m\u001b[0m\u001b[0m\n\u001b[0m\u001b[1;32m    475\u001b[0m     \u001b[0macf\u001b[0m \u001b[0;34m=\u001b[0m \u001b[0mavf\u001b[0m\u001b[0;34m[\u001b[0m\u001b[0;34m:\u001b[0m\u001b[0mnlags\u001b[0m \u001b[0;34m+\u001b[0m \u001b[0;36m1\u001b[0m\u001b[0;34m]\u001b[0m \u001b[0;34m/\u001b[0m \u001b[0mavf\u001b[0m\u001b[0;34m[\u001b[0m\u001b[0;36m0\u001b[0m\u001b[0;34m]\u001b[0m\u001b[0;34m\u001b[0m\u001b[0m\n\u001b[1;32m    476\u001b[0m     \u001b[0;32mif\u001b[0m \u001b[0;32mnot\u001b[0m \u001b[0;34m(\u001b[0m\u001b[0mqstat\u001b[0m \u001b[0;32mor\u001b[0m \u001b[0malpha\u001b[0m\u001b[0;34m)\u001b[0m\u001b[0;34m:\u001b[0m\u001b[0;34m\u001b[0m\u001b[0m\n",
      "\u001b[0;32m/Users/Carlos/Desktop/ExpI/env/lib/python2.7/site-packages/statsmodels/tsa/stattools.pyc\u001b[0m in \u001b[0;36macovf\u001b[0;34m(x, unbiased, demean, fft, missing)\u001b[0m\n\u001b[1;32m    351\u001b[0m             \u001b[0mxo\u001b[0m\u001b[0;34m[\u001b[0m\u001b[0;34m~\u001b[0m\u001b[0mnotmask_bool\u001b[0m\u001b[0;34m]\u001b[0m \u001b[0;34m=\u001b[0m \u001b[0;36m0\u001b[0m\u001b[0;34m\u001b[0m\u001b[0m\n\u001b[1;32m    352\u001b[0m     \u001b[0;32melif\u001b[0m \u001b[0mdemean\u001b[0m\u001b[0;34m:\u001b[0m\u001b[0;34m\u001b[0m\u001b[0m\n\u001b[0;32m--> 353\u001b[0;31m         \u001b[0mxo\u001b[0m \u001b[0;34m=\u001b[0m \u001b[0mx\u001b[0m \u001b[0;34m-\u001b[0m \u001b[0mx\u001b[0m\u001b[0;34m.\u001b[0m\u001b[0mmean\u001b[0m\u001b[0;34m(\u001b[0m\u001b[0;34m)\u001b[0m\u001b[0;34m\u001b[0m\u001b[0m\n\u001b[0m\u001b[1;32m    354\u001b[0m     \u001b[0;32melse\u001b[0m\u001b[0;34m:\u001b[0m\u001b[0;34m\u001b[0m\u001b[0m\n\u001b[1;32m    355\u001b[0m         \u001b[0mxo\u001b[0m \u001b[0;34m=\u001b[0m \u001b[0mx\u001b[0m\u001b[0;34m\u001b[0m\u001b[0m\n",
      "\u001b[0;32m/Users/Carlos/Desktop/ExpI/env/lib/python2.7/site-packages/numpy/core/_methods.pyc\u001b[0m in \u001b[0;36m_mean\u001b[0;34m(a, axis, dtype, out, keepdims)\u001b[0m\n\u001b[1;32m     78\u001b[0m             \u001b[0mret\u001b[0m \u001b[0;34m=\u001b[0m \u001b[0marr\u001b[0m\u001b[0;34m.\u001b[0m\u001b[0mdtype\u001b[0m\u001b[0;34m.\u001b[0m\u001b[0mtype\u001b[0m\u001b[0;34m(\u001b[0m\u001b[0mret\u001b[0m \u001b[0;34m/\u001b[0m \u001b[0mrcount\u001b[0m\u001b[0;34m)\u001b[0m\u001b[0;34m\u001b[0m\u001b[0m\n\u001b[1;32m     79\u001b[0m         \u001b[0;32melse\u001b[0m\u001b[0;34m:\u001b[0m\u001b[0;34m\u001b[0m\u001b[0m\n\u001b[0;32m---> 80\u001b[0;31m             \u001b[0mret\u001b[0m \u001b[0;34m=\u001b[0m \u001b[0mret\u001b[0m\u001b[0;34m.\u001b[0m\u001b[0mdtype\u001b[0m\u001b[0;34m.\u001b[0m\u001b[0mtype\u001b[0m\u001b[0;34m(\u001b[0m\u001b[0mret\u001b[0m \u001b[0;34m/\u001b[0m \u001b[0mrcount\u001b[0m\u001b[0;34m)\u001b[0m\u001b[0;34m\u001b[0m\u001b[0m\n\u001b[0m\u001b[1;32m     81\u001b[0m     \u001b[0;32melse\u001b[0m\u001b[0;34m:\u001b[0m\u001b[0;34m\u001b[0m\u001b[0m\n\u001b[1;32m     82\u001b[0m         \u001b[0mret\u001b[0m \u001b[0;34m=\u001b[0m \u001b[0mret\u001b[0m \u001b[0;34m/\u001b[0m \u001b[0mrcount\u001b[0m\u001b[0;34m\u001b[0m\u001b[0m\n",
      "\u001b[0;31mKeyboardInterrupt\u001b[0m: "
     ]
    }
   ],
   "source": [
    "f = '/Users/Carlos/Desktop/Redes/Data/VVV/blg/lpv/data/Mira/515401192020.csv'\n",
    "calculate_one_band_features(f)"
   ]
  },
  {
   "cell_type": "code",
   "execution_count": null,
   "metadata": {
    "collapsed": true
   },
   "outputs": [],
   "source": []
  }
 ],
 "metadata": {
  "kernelspec": {
   "display_name": "Python 2",
   "language": "python",
   "name": "python2"
  },
  "language_info": {
   "codemirror_mode": {
    "name": "ipython",
    "version": 2
   },
   "file_extension": ".py",
   "mimetype": "text/x-python",
   "name": "python",
   "nbconvert_exporter": "python",
   "pygments_lexer": "ipython2",
   "version": "2.7.13"
  }
 },
 "nbformat": 4,
 "nbformat_minor": 2
}
