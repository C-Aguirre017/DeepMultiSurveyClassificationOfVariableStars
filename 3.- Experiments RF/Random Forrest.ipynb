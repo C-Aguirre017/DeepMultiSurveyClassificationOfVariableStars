{
 "cells": [
  {
   "cell_type": "code",
   "execution_count": 1,
   "metadata": {
    "collapsed": true,
    "deletable": true,
    "editable": true
   },
   "outputs": [],
   "source": [
    "from sklearn.ensemble import RandomForestClassifier\n",
    "import glob, os\n",
    "import itertools\n",
    "import numpy as np\n",
    "from sklearn.model_selection import StratifiedKFold\n",
    "import pandas as pd\n",
    "from tqdm import tqdm"
   ]
  },
  {
   "cell_type": "markdown",
   "metadata": {
    "deletable": true,
    "editable": true
   },
   "source": [
    "# Settings"
   ]
  },
  {
   "cell_type": "code",
   "execution_count": 1,
   "metadata": {
    "collapsed": false,
    "deletable": true,
    "editable": true
   },
   "outputs": [],
   "source": [
    "# Technical Setting\n",
    "limit = 8000 # Maximum amount of Star Per Class\n",
    "permutation = True # Permute Files\n",
    "n = 1000\n",
    "folds = 10\n",
    "\n",
    "# Files Setting\n",
    "base_path = '/Users/Carlos/Desktop/Magister/3*/'\n",
    "regular_exp1 = base_path + 'Data/Corot/**/*.npy'\n",
    "regular_exp2 = base_path + 'Data/**/OGLE-*.npy'\n",
    "regular_exp3 = base_path + 'Data/VVV/**/*.npy'"
   ]
  },
  {
   "cell_type": "code",
   "execution_count": 28,
   "metadata": {
    "collapsed": false,
    "deletable": true,
    "editable": true
   },
   "outputs": [
    {
     "name": "stderr",
     "output_type": "stream",
     "text": [
      "\r",
      "  0%|          | 0/143771 [00:00<?, ?it/s]"
     ]
    },
    {
     "name": "stdout",
     "output_type": "stream",
     "text": [
      "[!] Files in Memory\n",
      "[!] Permutation applied\n"
     ]
    },
    {
     "name": "stderr",
     "output_type": "stream",
     "text": [
      "100%|██████████| 143771/143771 [00:02<00:00, 50171.62it/s]\n",
      "100%|██████████| 9/9 [00:00<00:00, 2338.98it/s]\n"
     ]
    },
    {
     "name": "stdout",
     "output_type": "stream",
     "text": [
      "[!] Files in Order\n",
      "[!] Loaded Files\n"
     ]
    },
    {
     "name": "stderr",
     "output_type": "stream",
     "text": [
      "100%|██████████| 1000/1000 [00:05<00:00, 194.13it/s]\n"
     ]
    }
   ],
   "source": [
    "## Methods\n",
    "subclasses = ['cepDiez', 'cepEfe', 'RRab', 'RRc', 'nonEC', 'EC', 'Mira', 'SRV', 'Osarg'] \n",
    "# subclasses = ['lpv','cep','rrlyr','ecl']\n",
    "\n",
    "def get_survey(path):\n",
    "    if 'Corot' in path:\n",
    "        return 'Corot'\n",
    "    elif 'VVV' in path:\n",
    "        return 'VVV'\n",
    "    elif 'OGLE' in path:\n",
    "        return 'OGLE'\n",
    "    else:\n",
    "        return 'err'\n",
    "\n",
    "def get_name(path):\n",
    "    for subclass in subclasses:\n",
    "        if subclass in path:\n",
    "            return subclass\n",
    "    return 'err'  \n",
    "\n",
    "def get_name_with_survey(path):\n",
    "    for subclass in subclasses:\n",
    "        if subclass in path:\n",
    "            survey = get_survey(path)\n",
    "            return survey + '_' + subclass\n",
    "    return 'err'\n",
    "\n",
    "\n",
    "def get_files(permutation=False):\n",
    "    files1 = np.array(list(glob.iglob(regular_exp1, recursive=True)))\n",
    "    files2 = np.array(list(glob.iglob(regular_exp2, recursive=True)))    \n",
    "    files3 = np.array(list(glob.iglob(regular_exp3, recursive=True)))\n",
    "    \n",
    "    print('[!] Files in Memory')\n",
    "    \n",
    "    # Permutations\n",
    "    if permutation:\n",
    "        files1 = files1[np.random.permutation(len(files1))]\n",
    "        files2 = files2[np.random.permutation(len(files2))]\n",
    "        files3 = files3[np.random.permutation(len(files3))]\n",
    "        \n",
    "        print('[!] Permutation applied')\n",
    "        \n",
    "    aux_dic = {}\n",
    "    corot = {}\n",
    "    vvv = {}\n",
    "    ogle = {}\n",
    "    for subclass in subclasses:\n",
    "        aux_dic[subclass] = []\n",
    "        corot[subclass] = 0\n",
    "        vvv[subclass] = 0\n",
    "        ogle[subclass] = 0\n",
    "\n",
    "        \n",
    "    new_files = []\n",
    "    for idx in tqdm(range(len(files2))):\n",
    "        foundCorot = False\n",
    "        foundVista = False\n",
    "        foundOgle = False\n",
    "        \n",
    "        for subclass in subclasses:        \n",
    "            # Corot\n",
    "            if not foundCorot and corot[subclass] < limit and idx < len(files1) and subclass in files1[idx]:\n",
    "                new_files += [files1[idx]]\n",
    "                corot[subclass] += 1\n",
    "                foundCorot = True\n",
    "                    \n",
    "            # Ogle\n",
    "            if not foundOgle and ogle[subclass] < limit and subclass in files2[idx]:\n",
    "                new_files += [files2[idx]]\n",
    "                ogle[subclass] += 1\n",
    "                foundOgle = True            \n",
    "                    \n",
    "            # VVV           \n",
    "            if not foundVista and vvv[subclass] < limit and idx < len(files3) and subclass in files3[idx]:\n",
    "                new_files += [files3[idx]]\n",
    "                vvv[subclass] += 1\n",
    "                foundVista = True   \n",
    "        \n",
    "    del files1, files2, files3\n",
    "\n",
    "    print('[!] Loaded Files')\n",
    "    \n",
    "    files = np.array(new_files)\n",
    "    \n",
    "    # Permutation\n",
    "    for i in range(10):\n",
    "        files = files[np.random.permutation(len(files))]\n",
    "    \n",
    "    # Class Names\n",
    "    Y = np.array([get_name(i) for i in files])\n",
    "    mask = np.where(~(Y == 'err'))\n",
    "    Y, files = Y[mask], files[mask]\n",
    "    \n",
    "    return files, Y\n",
    "\n",
    "def load_dic(files, Y):\n",
    "    \n",
    "    df = pd.DataFrame([])\n",
    "    new_y = []\n",
    "    new_subclass = []   \n",
    "    survey = []\n",
    "    for idx, i in enumerate(tqdm(files)):\n",
    "        \n",
    "        dic = np.load(i, encoding='latin1').item()\n",
    "        \n",
    "        ############################\n",
    "        ### Eliminate Inf Values ###\n",
    "        ############################\n",
    "        \n",
    "        df_aux = pd.DataFrame.from_dict(dic, orient='index')\n",
    "        if len(np.where(np.isinf(df_aux))[0]) == 0:\n",
    "            if len(df) == 0:\n",
    "                df = df_aux.T\n",
    "            else:\n",
    "                df = df.append(df_aux.T)\n",
    "            new_y.append(get_name_with_survey(i))\n",
    "            new_subclass.append( Y[idx])\n",
    "            survey.append(get_survey(i))\n",
    "            \n",
    "            \n",
    "    return df, np.array(new_y), np.array(new_subclass), np.array(survey)\n",
    "        \n",
    "files, Y = get_files(permutation)\n",
    "dic, Y, ySubClass, survey = load_dic(files[:n], Y[:n])\n",
    "\n",
    "########################\n",
    "## Replace Nan Values ##\n",
    "########################\n",
    "\n",
    "dic = dic.apply(lambda x: x.fillna(x.mean()), axis=0)"
   ]
  },
  {
   "cell_type": "markdown",
   "metadata": {
    "deletable": true,
    "editable": true
   },
   "source": [
    "# Random Forrest"
   ]
  },
  {
   "cell_type": "code",
   "execution_count": 29,
   "metadata": {
    "collapsed": false,
    "deletable": true,
    "editable": true,
    "scrolled": false
   },
   "outputs": [
    {
     "name": "stderr",
     "output_type": "stream",
     "text": [
      "/Users/Carlos/tensorflow/lib/python3.6/site-packages/sklearn/model_selection/_split.py:581: Warning: The least populated class in y has only 1 members, which is too few. The minimum number of groups for any class cannot be less than n_splits=10.\n",
      "  % (min_groups, self.n_splits)), Warning)\n"
     ]
    }
   ],
   "source": [
    "yReal = []\n",
    "yPred = []\n",
    "sReal = []\n",
    "\n",
    "X = dic.values\n",
    "skf = StratifiedKFold(n_splits=folds, shuffle =True)\n",
    "for train_index, test_index in skf.split(X, Y):\n",
    "    X_train, X_test = X[train_index], X[test_index]\n",
    "    y_train, y_test = ySubClass[train_index], ySubClass[test_index]\n",
    "    s_test = survey[test_index]\n",
    "\n",
    "    ########################\n",
    "    #### Random Forrest ####\n",
    "    ########################\n",
    "    \n",
    "    clf = RandomForestClassifier(min_samples_leaf=100, random_state=0)\n",
    "    clf.fit(X_train, y_train)\n",
    "    \n",
    "    yPred = np.append(yPred, clf.predict(X_test))\n",
    "    yReal = np.append(yReal, y_test)\n",
    "    sReal = np.append(sReal, s_test)"
   ]
  },
  {
   "cell_type": "code",
   "execution_count": 30,
   "metadata": {
    "collapsed": false,
    "deletable": true,
    "editable": true
   },
   "outputs": [
    {
     "name": "stdout",
     "output_type": "stream",
     "text": [
      "[+] Creando Directorio \n",
      "\t -> ./Resultados\n",
      "\n",
      " \t\t\t [+] Saving Results in ./Resultados/data\n"
     ]
    }
   ],
   "source": [
    "directory = './Resultados'\n",
    "if not os.path.exists(directory):\n",
    "    print('[+] Creando Directorio \\n\\t ->', directory)\n",
    "    os.mkdir(directory)\n",
    "\n",
    "filename_exp =  directory + '/data'   \n",
    "print('\\n \\t\\t\\t [+] Saving Results in', filename_exp)\n",
    "np.save(filename_exp, [yReal, yPred, sReal])"
   ]
  },
  {
   "cell_type": "code",
   "execution_count": null,
   "metadata": {
    "collapsed": true,
    "deletable": true,
    "editable": true
   },
   "outputs": [],
   "source": []
  }
 ],
 "metadata": {
  "kernelspec": {
   "display_name": "Python 3",
   "language": "python",
   "name": "python3"
  },
  "language_info": {
   "codemirror_mode": {
    "name": "ipython",
    "version": 3
   },
   "file_extension": ".py",
   "mimetype": "text/x-python",
   "name": "python",
   "nbconvert_exporter": "python",
   "pygments_lexer": "ipython3",
   "version": "3.6.1"
  }
 },
 "nbformat": 4,
 "nbformat_minor": 2
}
