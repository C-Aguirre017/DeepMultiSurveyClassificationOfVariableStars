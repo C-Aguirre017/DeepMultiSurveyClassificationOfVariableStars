{
 "cells": [
  {
   "cell_type": "markdown",
   "metadata": {
    "collapsed": true,
    "deletable": true,
    "editable": true
   },
   "source": [
    "# Extract FATS for Corot"
   ]
  },
  {
   "cell_type": "code",
   "execution_count": 34,
   "metadata": {
    "collapsed": false,
    "deletable": true,
    "editable": true
   },
   "outputs": [],
   "source": [
    "import os, glob, warnings, FATS, fnmatch\n",
    "import numpy as np\n",
    "import pandas as pd\n",
    "import multiprocessing\n",
    "from joblib import Parallel, delayed\n",
    "import time\n",
    "import matplotlib.pyplot as plt\n",
    "from matplotlib import pylab \n",
    "\n",
    "warnings.filterwarnings(\"ignore\", category=DeprecationWarning) \n",
    "%matplotlib inline\n",
    "pylab.rcParams['figure.figsize'] = 16,9"
   ]
  },
  {
   "cell_type": "markdown",
   "metadata": {
    "deletable": true,
    "editable": true
   },
   "source": [
    "## Settings\n",
    "- n_cores = la cantidad de cores que vamos a usar para correrlo en paralelo\n",
    "- types= Los dos tipos de estrellas de Corot. Solo sirve para poder meterse a los archivos\n",
    "- n= Representa la cantidad de tiempos a considerar"
   ]
  },
  {
   "cell_type": "code",
   "execution_count": 35,
   "metadata": {
    "collapsed": false,
    "deletable": true,
    "editable": true
   },
   "outputs": [
    {
     "name": "stdout",
     "output_type": "stream",
     "text": [
      "Warning: the feature Color could not be calculated because ['magnitude', 'time', 'magnitude2'] are needed.\n",
      "Warning: the feature Eta_color could not be calculated because ['magnitude', 'time', 'magnitude2'] are needed.\n",
      "Warning: the feature Q31_color could not be calculated because ['magnitude', 'time', 'magnitude2'] are needed.\n",
      "Warning: the feature StetsonJ could not be calculated because ['magnitude', 'time', 'error', 'magnitude2', 'error2'] are needed.\n",
      "Warning: the feature StetsonL could not be calculated because ['magnitude', 'time', 'error', 'magnitude2', 'error2'] are needed.\n"
     ]
    }
   ],
   "source": [
    "n_cores = multiprocessing.cpu_count() - 1\n",
    "folder_path = './Fats/'\n",
    "feature_space = FATS.FeatureSpace(Data= ['magnitude','time','error'], featureList=None)\n",
    "\n",
    "base_path = '/Users/Carlos/Desktop/ExpI/'\n",
    "exp_corot = base_path + 'Corot'     #'*.csv'\n",
    "exp_ogle = base_path + 'OGLE-III' #'OGLE-*.dat'\n",
    "exp_vvv = base_path + 'VVV'      #'*.csv'\n",
    "\n",
    "## Number of Points per Light Curve\n",
    "n = 500"
   ]
  },
  {
   "cell_type": "markdown",
   "metadata": {
    "deletable": true,
    "editable": true
   },
   "source": [
    "### Metodos"
   ]
  },
  {
   "cell_type": "code",
   "execution_count": 36,
   "metadata": {
    "collapsed": false,
    "deletable": true,
    "editable": true
   },
   "outputs": [],
   "source": [
    "def chunks(l, n):\n",
    "    for i in range(0, len(l), n):\n",
    "        yield l[i:i + n]\n",
    "\n",
    "def get_files(directory, pattern = \"*.csv\"):\n",
    "    matches = []\n",
    "    for root, dirs, files in os.walk(directory):\n",
    "        for basename in files:\n",
    "            if fnmatch.fnmatch(basename, pattern):\n",
    "                filename = os.path.join(root, basename)\n",
    "                matches.append(filename)\n",
    "    return matches\n",
    "\n",
    "def open_corot(path, n, columns):\n",
    "    df = pd.read_csv(path, comment='#', sep=',')\n",
    "    df = df[df.DATEBARTT > 0]\n",
    "\n",
    "    # 3 Desviaciones Standard\n",
    "    #df = df[np.abs(df.mjd-df.mjd.mean())<=(3*df.mjd.std())]\n",
    "    \n",
    "    time = np.array(df[df.columns[columns[0]]].values, dtype=float)\n",
    "    magnitude = np.array(df[df.columns[columns[1]]].values, dtype=float)\n",
    "    error = np.array(df[df.columns[columns[2]]].values, dtype=float)\n",
    "    \n",
    "    # Not Nan\n",
    "    not_nan = np.where(~np.logical_or(np.isnan(time), np.isnan(magnitude)))[0]\n",
    "    time = time[not_nan]\n",
    "    magnitude = magnitude[not_nan]\n",
    "    error = error[not_nan]\n",
    "    \n",
    "    if len(time) > n:\n",
    "        time = time[:n]\n",
    "        magnitude = magnitude[:n]\n",
    "        error = error[:n]\n",
    "    \n",
    "    return time, magnitude, error\n",
    "\n",
    "def calculate_one_band_features(path, n, columns):\n",
    "    time, mag, error = open_corot(path, n, columns)\n",
    "    preproccesed_data = FATS.Preprocess_LC(mag, time, error)\n",
    "    lc = np.array(preproccesed_data.Preprocess())\n",
    "    # feature_space = FATS.FeatureSpace(Data= ['magnitude','time','error'], featureList=None)\n",
    "    feature_space.calculateFeature(lc)\n",
    "    return  feature_space.result(method='dict')\n",
    "\n",
    "def save_file(filename, dictionary):    \n",
    "    new_df = pd.DataFrame(dictionary, index=['0'])\n",
    "    new_df.to_csv(filename, float_format='%12.6f', sep=\",\", index=False)\n",
    "\n",
    "def run_FATS(path, n):\n",
    "    print '\\t ', path\n",
    "    fats = [-1]*59\n",
    "    try:\n",
    "        columns = [0, 1, 2]\n",
    "        if 'EN2_STAR_CHR' in path:\n",
    "            columns = [0, 4, 8]\n",
    "\n",
    "        # Save Fats into folder\n",
    "        directory = os.path.dirname(path) + '/Fats'\n",
    "        if not os.path.exists(directory):\n",
    "            print '[+] Creando Directorio \\n\\t ->', directory\n",
    "            os.mkdir(directory)    \n",
    "\n",
    "        directory += '/' + str(n)\n",
    "        if not os.path.exists(directory):\n",
    "            print '[+] Creando Directorio \\n\\t ->', directory\n",
    "            os.mkdir(directory)        \n",
    "\n",
    "        name = os.path.basename(path)[:-4] + '.npy'\n",
    "        new_path = directory + '/' + name\n",
    "\n",
    "        # Calculate Fats\n",
    "        if not os.path.exists(new_path):\n",
    "            fats = calculate_one_band_features(path, n, columns)\n",
    "            np.save(new_path, fats)\n",
    "    except: \n",
    "        print '\\t\\t\\t Fatal Error'\n",
    "    return fats\n"
   ]
  },
  {
   "cell_type": "markdown",
   "metadata": {
    "deletable": true,
    "editable": true
   },
   "source": [
    "# Corot "
   ]
  },
  {
   "cell_type": "code",
   "execution_count": 29,
   "metadata": {
    "collapsed": false,
    "deletable": true,
    "editable": true,
    "scrolled": true
   },
   "outputs": [
    {
     "name": "stdout",
     "output_type": "stream",
     "text": [
      "\t\t [+] Total: 509\n",
      "\t  /Users/Carlos/Desktop/ExpI/Corot/RRab/EN2_STAR_CHR_0102812302.csv\n",
      "\t  /Users/Carlos/Desktop/ExpI/Corot/RRab/EN2_STAR_CHR_0102573994.csv\n",
      "\t  /Users/Carlos/Desktop/ExpI/Corot/RRab/EN2_STAR_CHR_0102824709.csv\n"
     ]
    },
    {
     "name": "stderr",
     "output_type": "stream",
     "text": [
      "/Users/Carlos/Desktop/ExpI/env/lib/python2.7/site-packages/scipy/optimize/_minimize.py:394: RuntimeWarning: Method nelder-mead cannot handle constraints nor bounds.\n",
      "  RuntimeWarning)\n",
      "/Users/Carlos/Desktop/ExpI/env/lib/python2.7/site-packages/scipy/optimize/_minimize.py:394: RuntimeWarning: Method nelder-mead cannot handle constraints nor bounds.\n",
      "  RuntimeWarning)\n",
      "/Users/Carlos/Desktop/ExpI/env/lib/python2.7/site-packages/scipy/optimize/_minimize.py:394: RuntimeWarning: Method nelder-mead cannot handle constraints nor bounds.\n",
      "  RuntimeWarning)\n",
      "/Users/Carlos/Desktop/ExpI/env/lib/python2.7/site-packages/FATS/FeatureFunctionLib.py:948: RuntimeWarning: invalid value encountered in power\n",
      "  ((2 * np.pi * (Omega[i] + error_vars[i])) ** -0.5) *\n",
      "/Users/Carlos/Desktop/ExpI/env/lib/python2.7/site-packages/FATS/FeatureFunctionLib.py:950: RuntimeWarning: divide by zero encountered in log\n",
      "  (Omega[i] + error_vars[i]))) + epsilon))\n",
      "/Users/Carlos/Desktop/ExpI/env/lib/python2.7/site-packages/FATS/FeatureFunctionLib.py:938: RuntimeWarning: overflow encountered in square\n",
      "  Omega[0] * (1 - (a_new ** 2)) + ((a_new ** 2)) * Omega[i - 1] *\n",
      "/Users/Carlos/Desktop/ExpI/env/lib/python2.7/site-packages/FATS/FeatureFunctionLib.py:939: RuntimeWarning: invalid value encountered in multiply\n",
      "  (1 - (Omega[i - 1] / (Omega[i - 1] + error_vars[i - 1]))))\n",
      "/Users/Carlos/Desktop/ExpI/env/lib/python2.7/site-packages/FATS/FeatureFunctionLib.py:949: RuntimeWarning: overflow encountered in square\n",
      "  (np.exp(-0.5 * (((x_hat[i] - x_ast[i]) ** 2) /\n",
      "/Users/Carlos/Desktop/ExpI/env/lib/python2.7/site-packages/FATS/FeatureFunctionLib.py:948: RuntimeWarning: invalid value encountered in power\n",
      "  ((2 * np.pi * (Omega[i] + error_vars[i])) ** -0.5) *\n"
     ]
    },
    {
     "name": "stdout",
     "output_type": "stream",
     "text": [
      "\t  /Users/Carlos/Desktop/ExpI/Corot/RRab/EN2_STAR_CHR_0102879782.csv\n",
      "\t  /Users/Carlos/Desktop/ExpI/Corot/RRab/EN2_STAR_CHR_0103800818.csv\n",
      "\t  /Users/Carlos/Desktop/ExpI/Corot/RRab/EN2_STAR_CHR_0104190253.csv\n",
      "\t  /Users/Carlos/Desktop/ExpI/Corot/RRab/EN2_STAR_CHR_0105173544.csv\n",
      "\t  /Users/Carlos/Desktop/ExpI/Corot/RRab/EN2_STAR_CHR_0105173544v2.csv\n",
      "\t  /Users/Carlos/Desktop/ExpI/Corot/RRab/EN2_STAR_CHR_0205924190.csv\n"
     ]
    },
    {
     "ename": "KeyboardInterrupt",
     "evalue": "",
     "output_type": "error",
     "traceback": [
      "\u001b[0;31m---------------------------------------------------------------------------\u001b[0m",
      "\u001b[0;31mKeyboardInterrupt\u001b[0m                         Traceback (most recent call last)",
      "\u001b[0;32m<ipython-input-29-17277acbbb5d>\u001b[0m in \u001b[0;36m<module>\u001b[0;34m()\u001b[0m\n\u001b[1;32m      3\u001b[0m \u001b[0mbatchs\u001b[0m \u001b[0;34m=\u001b[0m \u001b[0mlist\u001b[0m\u001b[0;34m(\u001b[0m\u001b[0mchunks\u001b[0m\u001b[0;34m(\u001b[0m\u001b[0mfiles\u001b[0m\u001b[0;34m,\u001b[0m \u001b[0;36m10\u001b[0m\u001b[0;34m)\u001b[0m\u001b[0;34m)\u001b[0m\u001b[0;34m\u001b[0m\u001b[0m\n\u001b[1;32m      4\u001b[0m \u001b[0;32mfor\u001b[0m \u001b[0mbatch\u001b[0m \u001b[0;32min\u001b[0m \u001b[0mbatchs\u001b[0m\u001b[0;34m:\u001b[0m\u001b[0;34m\u001b[0m\u001b[0m\n\u001b[0;32m----> 5\u001b[0;31m     \u001b[0mresult\u001b[0m \u001b[0;34m=\u001b[0m \u001b[0mParallel\u001b[0m\u001b[0;34m(\u001b[0m\u001b[0mn_jobs\u001b[0m\u001b[0;34m=\u001b[0m\u001b[0mn_cores\u001b[0m\u001b[0;34m)\u001b[0m\u001b[0;34m(\u001b[0m\u001b[0mdelayed\u001b[0m\u001b[0;34m(\u001b[0m\u001b[0mrun_FATS\u001b[0m\u001b[0;34m)\u001b[0m\u001b[0;34m(\u001b[0m\u001b[0mi\u001b[0m\u001b[0;34m,\u001b[0m \u001b[0mn\u001b[0m\u001b[0;34m)\u001b[0m \u001b[0;32mfor\u001b[0m \u001b[0mi\u001b[0m \u001b[0;32min\u001b[0m \u001b[0mbatch\u001b[0m\u001b[0;34m)\u001b[0m\u001b[0;34m\u001b[0m\u001b[0m\n\u001b[0m",
      "\u001b[0;32m/Users/Carlos/Desktop/ExpI/env/lib/python2.7/site-packages/joblib/parallel.pyc\u001b[0m in \u001b[0;36m__call__\u001b[0;34m(self, iterable)\u001b[0m\n\u001b[1;32m    787\u001b[0m                 \u001b[0;31m# consumption.\u001b[0m\u001b[0;34m\u001b[0m\u001b[0;34m\u001b[0m\u001b[0m\n\u001b[1;32m    788\u001b[0m                 \u001b[0mself\u001b[0m\u001b[0;34m.\u001b[0m\u001b[0m_iterating\u001b[0m \u001b[0;34m=\u001b[0m \u001b[0mFalse\u001b[0m\u001b[0;34m\u001b[0m\u001b[0m\n\u001b[0;32m--> 789\u001b[0;31m             \u001b[0mself\u001b[0m\u001b[0;34m.\u001b[0m\u001b[0mretrieve\u001b[0m\u001b[0;34m(\u001b[0m\u001b[0;34m)\u001b[0m\u001b[0;34m\u001b[0m\u001b[0m\n\u001b[0m\u001b[1;32m    790\u001b[0m             \u001b[0;31m# Make sure that we get a last message telling us we are done\u001b[0m\u001b[0;34m\u001b[0m\u001b[0;34m\u001b[0m\u001b[0m\n\u001b[1;32m    791\u001b[0m             \u001b[0melapsed_time\u001b[0m \u001b[0;34m=\u001b[0m \u001b[0mtime\u001b[0m\u001b[0;34m.\u001b[0m\u001b[0mtime\u001b[0m\u001b[0;34m(\u001b[0m\u001b[0;34m)\u001b[0m \u001b[0;34m-\u001b[0m \u001b[0mself\u001b[0m\u001b[0;34m.\u001b[0m\u001b[0m_start_time\u001b[0m\u001b[0;34m\u001b[0m\u001b[0m\n",
      "\u001b[0;32m/Users/Carlos/Desktop/ExpI/env/lib/python2.7/site-packages/joblib/parallel.pyc\u001b[0m in \u001b[0;36mretrieve\u001b[0;34m(self)\u001b[0m\n\u001b[1;32m    697\u001b[0m             \u001b[0;32mtry\u001b[0m\u001b[0;34m:\u001b[0m\u001b[0;34m\u001b[0m\u001b[0m\n\u001b[1;32m    698\u001b[0m                 \u001b[0;32mif\u001b[0m \u001b[0mgetattr\u001b[0m\u001b[0;34m(\u001b[0m\u001b[0mself\u001b[0m\u001b[0;34m.\u001b[0m\u001b[0m_backend\u001b[0m\u001b[0;34m,\u001b[0m \u001b[0;34m'supports_timeout'\u001b[0m\u001b[0;34m,\u001b[0m \u001b[0mFalse\u001b[0m\u001b[0;34m)\u001b[0m\u001b[0;34m:\u001b[0m\u001b[0;34m\u001b[0m\u001b[0m\n\u001b[0;32m--> 699\u001b[0;31m                     \u001b[0mself\u001b[0m\u001b[0;34m.\u001b[0m\u001b[0m_output\u001b[0m\u001b[0;34m.\u001b[0m\u001b[0mextend\u001b[0m\u001b[0;34m(\u001b[0m\u001b[0mjob\u001b[0m\u001b[0;34m.\u001b[0m\u001b[0mget\u001b[0m\u001b[0;34m(\u001b[0m\u001b[0mtimeout\u001b[0m\u001b[0;34m=\u001b[0m\u001b[0mself\u001b[0m\u001b[0;34m.\u001b[0m\u001b[0mtimeout\u001b[0m\u001b[0;34m)\u001b[0m\u001b[0;34m)\u001b[0m\u001b[0;34m\u001b[0m\u001b[0m\n\u001b[0m\u001b[1;32m    700\u001b[0m                 \u001b[0;32melse\u001b[0m\u001b[0;34m:\u001b[0m\u001b[0;34m\u001b[0m\u001b[0m\n\u001b[1;32m    701\u001b[0m                     \u001b[0mself\u001b[0m\u001b[0;34m.\u001b[0m\u001b[0m_output\u001b[0m\u001b[0;34m.\u001b[0m\u001b[0mextend\u001b[0m\u001b[0;34m(\u001b[0m\u001b[0mjob\u001b[0m\u001b[0;34m.\u001b[0m\u001b[0mget\u001b[0m\u001b[0;34m(\u001b[0m\u001b[0;34m)\u001b[0m\u001b[0;34m)\u001b[0m\u001b[0;34m\u001b[0m\u001b[0m\n",
      "\u001b[0;32m/usr/local/Cellar/python/2.7.13/Frameworks/Python.framework/Versions/2.7/lib/python2.7/multiprocessing/pool.pyc\u001b[0m in \u001b[0;36mget\u001b[0;34m(self, timeout)\u001b[0m\n\u001b[1;32m    559\u001b[0m \u001b[0;34m\u001b[0m\u001b[0m\n\u001b[1;32m    560\u001b[0m     \u001b[0;32mdef\u001b[0m \u001b[0mget\u001b[0m\u001b[0;34m(\u001b[0m\u001b[0mself\u001b[0m\u001b[0;34m,\u001b[0m \u001b[0mtimeout\u001b[0m\u001b[0;34m=\u001b[0m\u001b[0mNone\u001b[0m\u001b[0;34m)\u001b[0m\u001b[0;34m:\u001b[0m\u001b[0;34m\u001b[0m\u001b[0m\n\u001b[0;32m--> 561\u001b[0;31m         \u001b[0mself\u001b[0m\u001b[0;34m.\u001b[0m\u001b[0mwait\u001b[0m\u001b[0;34m(\u001b[0m\u001b[0mtimeout\u001b[0m\u001b[0;34m)\u001b[0m\u001b[0;34m\u001b[0m\u001b[0m\n\u001b[0m\u001b[1;32m    562\u001b[0m         \u001b[0;32mif\u001b[0m \u001b[0;32mnot\u001b[0m \u001b[0mself\u001b[0m\u001b[0;34m.\u001b[0m\u001b[0m_ready\u001b[0m\u001b[0;34m:\u001b[0m\u001b[0;34m\u001b[0m\u001b[0m\n\u001b[1;32m    563\u001b[0m             \u001b[0;32mraise\u001b[0m \u001b[0mTimeoutError\u001b[0m\u001b[0;34m\u001b[0m\u001b[0m\n",
      "\u001b[0;32m/usr/local/Cellar/python/2.7.13/Frameworks/Python.framework/Versions/2.7/lib/python2.7/multiprocessing/pool.pyc\u001b[0m in \u001b[0;36mwait\u001b[0;34m(self, timeout)\u001b[0m\n\u001b[1;32m    554\u001b[0m         \u001b[0;32mtry\u001b[0m\u001b[0;34m:\u001b[0m\u001b[0;34m\u001b[0m\u001b[0m\n\u001b[1;32m    555\u001b[0m             \u001b[0;32mif\u001b[0m \u001b[0;32mnot\u001b[0m \u001b[0mself\u001b[0m\u001b[0;34m.\u001b[0m\u001b[0m_ready\u001b[0m\u001b[0;34m:\u001b[0m\u001b[0;34m\u001b[0m\u001b[0m\n\u001b[0;32m--> 556\u001b[0;31m                 \u001b[0mself\u001b[0m\u001b[0;34m.\u001b[0m\u001b[0m_cond\u001b[0m\u001b[0;34m.\u001b[0m\u001b[0mwait\u001b[0m\u001b[0;34m(\u001b[0m\u001b[0mtimeout\u001b[0m\u001b[0;34m)\u001b[0m\u001b[0;34m\u001b[0m\u001b[0m\n\u001b[0m\u001b[1;32m    557\u001b[0m         \u001b[0;32mfinally\u001b[0m\u001b[0;34m:\u001b[0m\u001b[0;34m\u001b[0m\u001b[0m\n\u001b[1;32m    558\u001b[0m             \u001b[0mself\u001b[0m\u001b[0;34m.\u001b[0m\u001b[0m_cond\u001b[0m\u001b[0;34m.\u001b[0m\u001b[0mrelease\u001b[0m\u001b[0;34m(\u001b[0m\u001b[0;34m)\u001b[0m\u001b[0;34m\u001b[0m\u001b[0m\n",
      "\u001b[0;32m/usr/local/Cellar/python/2.7.13/Frameworks/Python.framework/Versions/2.7/lib/python2.7/threading.pyc\u001b[0m in \u001b[0;36mwait\u001b[0;34m(self, timeout)\u001b[0m\n\u001b[1;32m    338\u001b[0m         \u001b[0;32mtry\u001b[0m\u001b[0;34m:\u001b[0m    \u001b[0;31m# restore state no matter what (e.g., KeyboardInterrupt)\u001b[0m\u001b[0;34m\u001b[0m\u001b[0m\n\u001b[1;32m    339\u001b[0m             \u001b[0;32mif\u001b[0m \u001b[0mtimeout\u001b[0m \u001b[0;32mis\u001b[0m \u001b[0mNone\u001b[0m\u001b[0;34m:\u001b[0m\u001b[0;34m\u001b[0m\u001b[0m\n\u001b[0;32m--> 340\u001b[0;31m                 \u001b[0mwaiter\u001b[0m\u001b[0;34m.\u001b[0m\u001b[0macquire\u001b[0m\u001b[0;34m(\u001b[0m\u001b[0;34m)\u001b[0m\u001b[0;34m\u001b[0m\u001b[0m\n\u001b[0m\u001b[1;32m    341\u001b[0m                 \u001b[0;32mif\u001b[0m \u001b[0m__debug__\u001b[0m\u001b[0;34m:\u001b[0m\u001b[0;34m\u001b[0m\u001b[0m\n\u001b[1;32m    342\u001b[0m                     \u001b[0mself\u001b[0m\u001b[0;34m.\u001b[0m\u001b[0m_note\u001b[0m\u001b[0;34m(\u001b[0m\u001b[0;34m\"%s.wait(): got it\"\u001b[0m\u001b[0;34m,\u001b[0m \u001b[0mself\u001b[0m\u001b[0;34m)\u001b[0m\u001b[0;34m\u001b[0m\u001b[0m\n",
      "\u001b[0;31mKeyboardInterrupt\u001b[0m: "
     ]
    }
   ],
   "source": [
    "files = get_files(exp_corot)\n",
    "print '\\t\\t [+] Total:', len(files)\n",
    "batchs = list(chunks(files, 10)) \n",
    "for batch in batchs:\n",
    "    result = Parallel(n_jobs=n_cores)(delayed(run_FATS)(i, n) for i in batch)"
   ]
  },
  {
   "cell_type": "markdown",
   "metadata": {
    "collapsed": false,
    "deletable": true,
    "editable": true
   },
   "source": [
    "## Recover Files"
   ]
  },
  {
   "cell_type": "code",
   "execution_count": 32,
   "metadata": {
    "collapsed": false
   },
   "outputs": [],
   "source": [
    "dictionary = np.load('/Users/Carlos/Desktop/ExpI/Corot/RRab/Fats/500/EN2_STAR_CHR_0102879782.npy').item()"
   ]
  },
  {
   "cell_type": "code",
   "execution_count": null,
   "metadata": {
    "collapsed": true
   },
   "outputs": [],
   "source": []
  }
 ],
 "metadata": {
  "kernelspec": {
   "display_name": "Python 2",
   "language": "python",
   "name": "python2"
  },
  "language_info": {
   "codemirror_mode": {
    "name": "ipython",
    "version": 2
   },
   "file_extension": ".py",
   "mimetype": "text/x-python",
   "name": "python",
   "nbconvert_exporter": "python",
   "pygments_lexer": "ipython2",
   "version": "2.7.13"
  }
 },
 "nbformat": 4,
 "nbformat_minor": 2
}
